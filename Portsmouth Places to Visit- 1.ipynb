{
 "cells": [
  {
   "cell_type": "markdown",
   "id": "0f37e793",
   "metadata": {},
   "source": [
    "**Webscrapping a website for travel destinations using BeautifulSoup &\n",
    "Forward Geocoding for finidng place coordinates and address using Nominatim**"
   ]
  },
  {
   "cell_type": "code",
   "execution_count": 1,
   "id": "7b3b6575",
   "metadata": {},
   "outputs": [],
   "source": [
    "#importing required packages\n",
    "import requests\n",
    "# requests is to get the html source code of any website\n",
    "from bs4 import BeautifulSoup\n",
    "# the main package bs4, from which we get the function BeautifulSoup()\n",
    "import pandas as pd\n",
    "import numpy as np"
   ]
  },
  {
   "cell_type": "code",
   "execution_count": 2,
   "id": "9527159d",
   "metadata": {},
   "outputs": [],
   "source": [
    "#PlanetWare url loading\n",
    "url1='https://www.planetware.com/tourist-attractions-/portsmouth-eng-hmp-po.html'"
   ]
  },
  {
   "cell_type": "code",
   "execution_count": 3,
   "id": "ecc75dcc",
   "metadata": {},
   "outputs": [],
   "source": [
    "#requests to get html code\n",
    "attractions_html=requests.get(url1).text"
   ]
  },
  {
   "cell_type": "markdown",
   "id": "f4a27d06",
   "metadata": {},
   "source": [
    "print(attractions_html)"
   ]
  },
  {
   "cell_type": "code",
   "execution_count": 4,
   "id": "233a3890",
   "metadata": {},
   "outputs": [],
   "source": [
    "# we convert the above string into a bs4, lxml object so that the function understands the page\n",
    "soup = BeautifulSoup(attractions_html, 'lxml')"
   ]
  },
  {
   "cell_type": "markdown",
   "id": "f2a06fe4",
   "metadata": {},
   "source": [
    "soup"
   ]
  },
  {
   "cell_type": "markdown",
   "id": "58cedf87",
   "metadata": {},
   "source": [
    "print(dir(soup))"
   ]
  },
  {
   "cell_type": "code",
   "execution_count": 5,
   "id": "3e2a0740",
   "metadata": {},
   "outputs": [
    {
     "data": {
      "text/plain": [
       "18"
      ]
     },
     "execution_count": 5,
     "metadata": {},
     "output_type": "execute_result"
    }
   ],
   "source": [
    "# extracting from rquired attributes\n",
    "names = soup.findAll('figcaption')\n",
    "len(names)"
   ]
  },
  {
   "cell_type": "code",
   "execution_count": 6,
   "id": "fe586aec",
   "metadata": {},
   "outputs": [],
   "source": [
    "#putting attribute text values in series\n",
    "attraction_names = []\n",
    "for name in names:\n",
    "    attraction_names.append(name.text)\n",
    "attraction_names = pd.Series(attraction_names, name = \"Tourist_Attraction\")"
   ]
  },
  {
   "cell_type": "code",
   "execution_count": 7,
   "id": "4b92ac6b",
   "metadata": {},
   "outputs": [],
   "source": [
    "attraction_names= attraction_names[1::]"
   ]
  },
  {
   "cell_type": "code",
   "execution_count": 8,
   "id": "59faee93",
   "metadata": {},
   "outputs": [
    {
     "data": {
      "text/plain": [
       "1         HMS Victory | Photo Copyright: Bryan Dearsley\n",
       "2     Mary Rose Museum | Photo Copyright: Bryan Dear...\n",
       "3                                          HMS Warrior \n",
       "4         HMS Warrior | Photo Copyright: Bryan Dearsley\n",
       "5     Portsmouth Historic Dockyard | Photo Copyright...\n",
       "6     Spinnaker Tower | Photo Copyright: Bryan Dearsley\n",
       "7                                      Spinnaker Tower \n",
       "8     The D-Day Story | Photo Copyright: Bryan Dearsley\n",
       "9      Gunwharf Quays | Photo Copyright: Bryan Dearsley\n",
       "10    Royal Navy Submarine Museum |  Comrade Foot / ...\n",
       "11            Round and Square Towers in Old Portsmouth\n",
       "12                                Portsmouth Cathedral \n",
       "13                  Charles Dickens' Birthplace Museum \n",
       "14                    Portsmouth Museum and Art Gallery\n",
       "15                Southsea Beach and Pier in Portsmouth\n",
       "16    Southsea Rock Gardens | Photo Copyright: Bryan...\n",
       "17                                        Stansted Park\n",
       "Name: Tourist_Attraction, dtype: object"
      ]
     },
     "execution_count": 8,
     "metadata": {},
     "output_type": "execute_result"
    }
   ],
   "source": [
    "attraction_names"
   ]
  },
  {
   "cell_type": "code",
   "execution_count": 9,
   "id": "43fc6c44",
   "metadata": {},
   "outputs": [],
   "source": [
    "#series to dataframe\n",
    "attraction_names= attraction_names.to_frame()"
   ]
  },
  {
   "cell_type": "code",
   "execution_count": 10,
   "id": "93031496",
   "metadata": {},
   "outputs": [],
   "source": [
    "#cleaning data: removing unwanted suffixes\n",
    "attraction_names_1=attraction_names['Tourist_Attraction'].map(lambda x: x.replace('| Photo Copyright: Bryan Dearsley',''))"
   ]
  },
  {
   "cell_type": "code",
   "execution_count": 11,
   "id": "c8d23132",
   "metadata": {},
   "outputs": [],
   "source": [
    "#cleaning data: removing suffxes 2\n",
    "attraction_names_1['Tourist_Attraction'] = attraction_names['Tourist_Attraction'].str.split('|').str[0]"
   ]
  },
  {
   "cell_type": "code",
   "execution_count": 12,
   "id": "141ff1ab",
   "metadata": {},
   "outputs": [],
   "source": [
    "#cleaning data: removing unwanted suffixes 3\n",
    "attraction_names_2 = attraction_names_1['Tourist_Attraction'].str.split('|').str[0]"
   ]
  },
  {
   "cell_type": "code",
   "execution_count": 13,
   "id": "715e0357",
   "metadata": {},
   "outputs": [],
   "source": [
    "placestogo=attraction_names_2.to_frame()"
   ]
  },
  {
   "cell_type": "code",
   "execution_count": 14,
   "id": "1486f656",
   "metadata": {},
   "outputs": [],
   "source": [
    "#dropping duplicates\n",
    "placestogo=placestogo.drop_duplicates()"
   ]
  },
  {
   "cell_type": "code",
   "execution_count": 15,
   "id": "fd6eea2b",
   "metadata": {},
   "outputs": [
    {
     "data": {
      "text/html": [
       "<div>\n",
       "<style scoped>\n",
       "    .dataframe tbody tr th:only-of-type {\n",
       "        vertical-align: middle;\n",
       "    }\n",
       "\n",
       "    .dataframe tbody tr th {\n",
       "        vertical-align: top;\n",
       "    }\n",
       "\n",
       "    .dataframe thead th {\n",
       "        text-align: right;\n",
       "    }\n",
       "</style>\n",
       "<table border=\"1\" class=\"dataframe\">\n",
       "  <thead>\n",
       "    <tr style=\"text-align: right;\">\n",
       "      <th></th>\n",
       "      <th>Tourist_Attraction</th>\n",
       "    </tr>\n",
       "  </thead>\n",
       "  <tbody>\n",
       "    <tr>\n",
       "      <th>0</th>\n",
       "      <td>HMS Victory</td>\n",
       "    </tr>\n",
       "    <tr>\n",
       "      <th>1</th>\n",
       "      <td>Mary Rose Museum</td>\n",
       "    </tr>\n",
       "    <tr>\n",
       "      <th>2</th>\n",
       "      <td>HMS Warrior</td>\n",
       "    </tr>\n",
       "    <tr>\n",
       "      <th>3</th>\n",
       "      <td>Portsmouth Historic Dockyard</td>\n",
       "    </tr>\n",
       "    <tr>\n",
       "      <th>4</th>\n",
       "      <td>Spinnaker Tower</td>\n",
       "    </tr>\n",
       "    <tr>\n",
       "      <th>5</th>\n",
       "      <td>The D-Day Story</td>\n",
       "    </tr>\n",
       "    <tr>\n",
       "      <th>6</th>\n",
       "      <td>Gunwharf Quays</td>\n",
       "    </tr>\n",
       "    <tr>\n",
       "      <th>7</th>\n",
       "      <td>Royal Navy Submarine Museum</td>\n",
       "    </tr>\n",
       "    <tr>\n",
       "      <th>8</th>\n",
       "      <td>Round and Square Towers in Old Portsmouth</td>\n",
       "    </tr>\n",
       "    <tr>\n",
       "      <th>9</th>\n",
       "      <td>Portsmouth Cathedral</td>\n",
       "    </tr>\n",
       "    <tr>\n",
       "      <th>10</th>\n",
       "      <td>Charles Dickens' Birthplace Museum</td>\n",
       "    </tr>\n",
       "    <tr>\n",
       "      <th>11</th>\n",
       "      <td>Portsmouth Museum and Art Gallery</td>\n",
       "    </tr>\n",
       "    <tr>\n",
       "      <th>12</th>\n",
       "      <td>Southsea Beach and Pier in Portsmouth</td>\n",
       "    </tr>\n",
       "    <tr>\n",
       "      <th>13</th>\n",
       "      <td>Southsea Rock Gardens</td>\n",
       "    </tr>\n",
       "    <tr>\n",
       "      <th>14</th>\n",
       "      <td>Stansted Park</td>\n",
       "    </tr>\n",
       "  </tbody>\n",
       "</table>\n",
       "</div>"
      ],
      "text/plain": [
       "                           Tourist_Attraction\n",
       "0                                HMS Victory \n",
       "1                           Mary Rose Museum \n",
       "2                                HMS Warrior \n",
       "3               Portsmouth Historic Dockyard \n",
       "4                            Spinnaker Tower \n",
       "5                            The D-Day Story \n",
       "6                             Gunwharf Quays \n",
       "7                Royal Navy Submarine Museum \n",
       "8   Round and Square Towers in Old Portsmouth\n",
       "9                       Portsmouth Cathedral \n",
       "10        Charles Dickens' Birthplace Museum \n",
       "11          Portsmouth Museum and Art Gallery\n",
       "12      Southsea Beach and Pier in Portsmouth\n",
       "13                     Southsea Rock Gardens \n",
       "14                              Stansted Park"
      ]
     },
     "execution_count": 15,
     "metadata": {},
     "output_type": "execute_result"
    }
   ],
   "source": [
    "placestogo=placestogo.reset_index(drop=True)\n",
    "placestogo"
   ]
  },
  {
   "cell_type": "code",
   "execution_count": 16,
   "id": "58e5ee8d",
   "metadata": {},
   "outputs": [],
   "source": [
    "#Exporting scrapped place names to PlanetWare_placesextracted.csv\n",
    "placestogo.to_csv('PlanetWare_placesextracted.csv')"
   ]
  },
  {
   "cell_type": "markdown",
   "id": "35712bec",
   "metadata": {},
   "source": [
    "# Returning address information using Nominatim"
   ]
  },
  {
   "cell_type": "code",
   "execution_count": 17,
   "id": "dcd2d036",
   "metadata": {},
   "outputs": [],
   "source": [
    "#installing and importing geocoding pakcages\n",
    "\n",
    "#!pip install geopandas\n",
    "#!pip install geopy\n",
    "\n",
    "\n",
    "import geopandas as gpd\n",
    "import geopy\n",
    "from geopy.geocoders import Nominatim\n",
    "from geopy.extra.rate_limiter import RateLimiter"
   ]
  },
  {
   "cell_type": "code",
   "execution_count": 18,
   "id": "abb07165",
   "metadata": {},
   "outputs": [],
   "source": [
    "#Setting up Nominatim\n",
    "locator = Nominatim(user_agent=\"Travelops\", timeout=20)\n",
    "rgeocode = RateLimiter(locator.reverse, min_delay_seconds=0.001)"
   ]
  },
  {
   "cell_type": "code",
   "execution_count": 19,
   "id": "314bf02c",
   "metadata": {},
   "outputs": [],
   "source": [
    "#function forward geocoding\n",
    "#takes place name and finds address and coordinates\n",
    "def location_info(x):\n",
    "\n",
    "    data = locator.geocode(x) #use this line when using Nominatim\n",
    "    \n",
    "    #converted = pd.json_normalize(data).squeeze() #squeeze converts a dataframe to a pandas series\n",
    "    return data"
   ]
  },
  {
   "cell_type": "code",
   "execution_count": 20,
   "id": "21cad597",
   "metadata": {},
   "outputs": [
    {
     "data": {
      "text/plain": [
       "0     (HMS Victory, Main Road, Portsea, Portsmouth, ...\n",
       "1     (Mary Rose Museum, Main Road, Portsea, Portsmo...\n",
       "2     (HMS Warrior, Gosport Ferry Piazza, Portsea, P...\n",
       "3     (Portsmouth Historic Dockyard, The Hard, Ports...\n",
       "4     (Spinnaker Tower, The Canalside, Gunwharf Quay...\n",
       "5                                                  None\n",
       "6     (Gunwharf Quays, Portsea, Portsmouth, England,...\n",
       "7     (Royal Navy Submarine Museum, Haslar Road, Sea...\n",
       "8                                                  None\n",
       "9     (Cathedral Church of St Thomas of Canterbury, ...\n",
       "10    (Charles Dickens Birthplace Museum, 393, Old C...\n",
       "11                                                 None\n",
       "12                                                 None\n",
       "13    (Southsea Rock Gardens, Clarence Esplanade, So...\n",
       "14    (Stansted Park, Stansted Mountfitchet, Uttlesf...\n",
       "Name: Tourist_Attraction, dtype: object"
      ]
     },
     "execution_count": 20,
     "metadata": {},
     "output_type": "execute_result"
    }
   ],
   "source": [
    "#calling functions for geocoding of above extracted places\n",
    "location_info_df = placestogo['Tourist_Attraction'].apply(location_info)\n",
    "location_info_df"
   ]
  },
  {
   "cell_type": "code",
   "execution_count": 21,
   "id": "96b30213",
   "metadata": {},
   "outputs": [
    {
     "data": {
      "text/html": [
       "<div>\n",
       "<style scoped>\n",
       "    .dataframe tbody tr th:only-of-type {\n",
       "        vertical-align: middle;\n",
       "    }\n",
       "\n",
       "    .dataframe tbody tr th {\n",
       "        vertical-align: top;\n",
       "    }\n",
       "\n",
       "    .dataframe thead th {\n",
       "        text-align: right;\n",
       "    }\n",
       "</style>\n",
       "<table border=\"1\" class=\"dataframe\">\n",
       "  <thead>\n",
       "    <tr style=\"text-align: right;\">\n",
       "      <th></th>\n",
       "      <th>Tourist_Attraction</th>\n",
       "      <th>Tourist_Attraction</th>\n",
       "    </tr>\n",
       "  </thead>\n",
       "  <tbody>\n",
       "    <tr>\n",
       "      <th>0</th>\n",
       "      <td>HMS Victory</td>\n",
       "      <td>(HMS Victory, Main Road, Portsea, Portsmouth, ...</td>\n",
       "    </tr>\n",
       "    <tr>\n",
       "      <th>1</th>\n",
       "      <td>Mary Rose Museum</td>\n",
       "      <td>(Mary Rose Museum, Main Road, Portsea, Portsmo...</td>\n",
       "    </tr>\n",
       "    <tr>\n",
       "      <th>2</th>\n",
       "      <td>HMS Warrior</td>\n",
       "      <td>(HMS Warrior, Gosport Ferry Piazza, Portsea, P...</td>\n",
       "    </tr>\n",
       "    <tr>\n",
       "      <th>3</th>\n",
       "      <td>Portsmouth Historic Dockyard</td>\n",
       "      <td>(Portsmouth Historic Dockyard, The Hard, Ports...</td>\n",
       "    </tr>\n",
       "    <tr>\n",
       "      <th>4</th>\n",
       "      <td>Spinnaker Tower</td>\n",
       "      <td>(Spinnaker Tower, The Canalside, Gunwharf Quay...</td>\n",
       "    </tr>\n",
       "    <tr>\n",
       "      <th>5</th>\n",
       "      <td>The D-Day Story</td>\n",
       "      <td>None</td>\n",
       "    </tr>\n",
       "    <tr>\n",
       "      <th>6</th>\n",
       "      <td>Gunwharf Quays</td>\n",
       "      <td>(Gunwharf Quays, Portsea, Portsmouth, England,...</td>\n",
       "    </tr>\n",
       "    <tr>\n",
       "      <th>7</th>\n",
       "      <td>Royal Navy Submarine Museum</td>\n",
       "      <td>(Royal Navy Submarine Museum, Haslar Road, Sea...</td>\n",
       "    </tr>\n",
       "    <tr>\n",
       "      <th>8</th>\n",
       "      <td>Round and Square Towers in Old Portsmouth</td>\n",
       "      <td>None</td>\n",
       "    </tr>\n",
       "    <tr>\n",
       "      <th>9</th>\n",
       "      <td>Portsmouth Cathedral</td>\n",
       "      <td>(Cathedral Church of St Thomas of Canterbury, ...</td>\n",
       "    </tr>\n",
       "    <tr>\n",
       "      <th>10</th>\n",
       "      <td>Charles Dickens' Birthplace Museum</td>\n",
       "      <td>(Charles Dickens Birthplace Museum, 393, Old C...</td>\n",
       "    </tr>\n",
       "    <tr>\n",
       "      <th>11</th>\n",
       "      <td>Portsmouth Museum and Art Gallery</td>\n",
       "      <td>None</td>\n",
       "    </tr>\n",
       "    <tr>\n",
       "      <th>12</th>\n",
       "      <td>Southsea Beach and Pier in Portsmouth</td>\n",
       "      <td>None</td>\n",
       "    </tr>\n",
       "    <tr>\n",
       "      <th>13</th>\n",
       "      <td>Southsea Rock Gardens</td>\n",
       "      <td>(Southsea Rock Gardens, Clarence Esplanade, So...</td>\n",
       "    </tr>\n",
       "    <tr>\n",
       "      <th>14</th>\n",
       "      <td>Stansted Park</td>\n",
       "      <td>(Stansted Park, Stansted Mountfitchet, Uttlesf...</td>\n",
       "    </tr>\n",
       "  </tbody>\n",
       "</table>\n",
       "</div>"
      ],
      "text/plain": [
       "                           Tourist_Attraction  \\\n",
       "0                                HMS Victory    \n",
       "1                           Mary Rose Museum    \n",
       "2                                HMS Warrior    \n",
       "3               Portsmouth Historic Dockyard    \n",
       "4                            Spinnaker Tower    \n",
       "5                            The D-Day Story    \n",
       "6                             Gunwharf Quays    \n",
       "7                Royal Navy Submarine Museum    \n",
       "8   Round and Square Towers in Old Portsmouth   \n",
       "9                       Portsmouth Cathedral    \n",
       "10        Charles Dickens' Birthplace Museum    \n",
       "11          Portsmouth Museum and Art Gallery   \n",
       "12      Southsea Beach and Pier in Portsmouth   \n",
       "13                     Southsea Rock Gardens    \n",
       "14                              Stansted Park   \n",
       "\n",
       "                                   Tourist_Attraction  \n",
       "0   (HMS Victory, Main Road, Portsea, Portsmouth, ...  \n",
       "1   (Mary Rose Museum, Main Road, Portsea, Portsmo...  \n",
       "2   (HMS Warrior, Gosport Ferry Piazza, Portsea, P...  \n",
       "3   (Portsmouth Historic Dockyard, The Hard, Ports...  \n",
       "4   (Spinnaker Tower, The Canalside, Gunwharf Quay...  \n",
       "5                                                None  \n",
       "6   (Gunwharf Quays, Portsea, Portsmouth, England,...  \n",
       "7   (Royal Navy Submarine Museum, Haslar Road, Sea...  \n",
       "8                                                None  \n",
       "9   (Cathedral Church of St Thomas of Canterbury, ...  \n",
       "10  (Charles Dickens Birthplace Museum, 393, Old C...  \n",
       "11                                               None  \n",
       "12                                               None  \n",
       "13  (Southsea Rock Gardens, Clarence Esplanade, So...  \n",
       "14  (Stansted Park, Stansted Mountfitchet, Uttlesf...  "
      ]
     },
     "execution_count": 21,
     "metadata": {},
     "output_type": "execute_result"
    }
   ],
   "source": [
    "#joing place names with their geolocation identities- both data sets above\n",
    "df_locations = pd.concat([placestogo,location_info_df], axis=1)\n",
    "df_locations"
   ]
  },
  {
   "cell_type": "code",
   "execution_count": 22,
   "id": "2eef8cde",
   "metadata": {},
   "outputs": [],
   "source": [
    "#cleaning data: renaming columns\n",
    "df_locations.columns =['place','address']"
   ]
  },
  {
   "cell_type": "code",
   "execution_count": 23,
   "id": "5ef4be9b",
   "metadata": {},
   "outputs": [
    {
     "name": "stdout",
     "output_type": "stream",
     "text": [
      "<class 'tuple'>\n"
     ]
    },
    {
     "data": {
      "text/plain": [
       "(50.80220235, -1.1089264299156816)"
      ]
     },
     "execution_count": 23,
     "metadata": {},
     "output_type": "execute_result"
    }
   ],
   "source": [
    "print(type(df_locations['address'][1][1]))\n",
    "df_locations['address'][1][1]\n",
    "#coordinates are stored in a tuple with the address column"
   ]
  },
  {
   "cell_type": "code",
   "execution_count": 24,
   "id": "99751a0e",
   "metadata": {},
   "outputs": [
    {
     "name": "stdout",
     "output_type": "stream",
     "text": [
      "<class 'str'>\n"
     ]
    },
    {
     "data": {
      "text/plain": [
       "'Mary Rose Museum, Main Road, Portsea, Portsmouth, England, PO1 3LU, United Kingdom'"
      ]
     },
     "execution_count": 24,
     "metadata": {},
     "output_type": "execute_result"
    }
   ],
   "source": [
    "print(type(df_locations['address'][1][0]))\n",
    "df_locations['address'][1][0]\n",
    "#in the same address column the first element of list is str class"
   ]
  },
  {
   "cell_type": "code",
   "execution_count": 25,
   "id": "2a18dc62",
   "metadata": {},
   "outputs": [
    {
     "data": {
      "text/plain": [
       "pandas.core.series.Series"
      ]
     },
     "execution_count": 25,
     "metadata": {},
     "output_type": "execute_result"
    }
   ],
   "source": [
    "type(df_locations['address'])\n",
    "#address is series type"
   ]
  },
  {
   "cell_type": "code",
   "execution_count": 26,
   "id": "66e95465",
   "metadata": {},
   "outputs": [],
   "source": [
    "#resetting index\n",
    "df_locations=df_locations.reset_index(drop=True)"
   ]
  },
  {
   "cell_type": "code",
   "execution_count": 27,
   "id": "5a2ce0ec",
   "metadata": {},
   "outputs": [
    {
     "name": "stdout",
     "output_type": "stream",
     "text": [
      "<class 'pandas.core.frame.DataFrame'>\n",
      "<class 'pandas.core.series.Series'>\n",
      "<class 'pandas.core.series.Series'>\n",
      "<class 'geopy.location.Location'>\n",
      "<class 'str'>\n",
      "<class 'tuple'>\n"
     ]
    }
   ],
   "source": [
    "#checking datatypes before more cleaning\n",
    "print(type(df_locations))\n",
    "print(type(df_locations['place']))\n",
    "print(type(df_locations['address']))\n",
    "print(type(df_locations['address'][0]))\n",
    "print(type(df_locations['address'][0][0]))\n",
    "print(type(df_locations['address'][0][1]))"
   ]
  },
  {
   "cell_type": "code",
   "execution_count": 28,
   "id": "f015ec54",
   "metadata": {},
   "outputs": [
    {
     "data": {
      "text/plain": [
       "15"
      ]
     },
     "execution_count": 28,
     "metadata": {},
     "output_type": "execute_result"
    }
   ],
   "source": [
    "#number of rows or places\n",
    "len(df_locations)"
   ]
  },
  {
   "cell_type": "code",
   "execution_count": 29,
   "id": "5e97c9e8",
   "metadata": {},
   "outputs": [],
   "source": [
    "#extracting the string part as address and storing in new column of dataframe\n",
    "df_locations['address_']=df_locations['address'].astype('str')"
   ]
  },
  {
   "cell_type": "code",
   "execution_count": 30,
   "id": "a7ba2ef8",
   "metadata": {},
   "outputs": [],
   "source": [
    "#extracting the tuple part as coordinates and storing in a list\n",
    "coord=[]\n",
    "for i in range(len(df_locations['address'])):\n",
    "    if df_locations['address'][i]!=None:\n",
    "        coord.append(df_locations['address'][i][1])\n",
    "    else:\n",
    "        coord.append(None)"
   ]
  },
  {
   "cell_type": "code",
   "execution_count": 31,
   "id": "ad314891",
   "metadata": {},
   "outputs": [
    {
     "data": {
      "text/plain": [
       "list"
      ]
     },
     "execution_count": 31,
     "metadata": {},
     "output_type": "execute_result"
    }
   ],
   "source": [
    "#checking data type for coord\n",
    "type(coord)"
   ]
  },
  {
   "cell_type": "code",
   "execution_count": 32,
   "id": "d58a6788",
   "metadata": {},
   "outputs": [],
   "source": [
    "#changing list to series\n",
    "coord=pd.Series(coord)"
   ]
  },
  {
   "cell_type": "code",
   "execution_count": 33,
   "id": "367ba634",
   "metadata": {},
   "outputs": [],
   "source": [
    "#adding new columns in dataframe df_locations to store series values of coordinates\n",
    "df_locations['coordinates']=coord.values"
   ]
  },
  {
   "cell_type": "code",
   "execution_count": 34,
   "id": "65c8b823",
   "metadata": {},
   "outputs": [
    {
     "data": {
      "text/html": [
       "<div>\n",
       "<style scoped>\n",
       "    .dataframe tbody tr th:only-of-type {\n",
       "        vertical-align: middle;\n",
       "    }\n",
       "\n",
       "    .dataframe tbody tr th {\n",
       "        vertical-align: top;\n",
       "    }\n",
       "\n",
       "    .dataframe thead th {\n",
       "        text-align: right;\n",
       "    }\n",
       "</style>\n",
       "<table border=\"1\" class=\"dataframe\">\n",
       "  <thead>\n",
       "    <tr style=\"text-align: right;\">\n",
       "      <th></th>\n",
       "      <th>place</th>\n",
       "      <th>address</th>\n",
       "      <th>address_</th>\n",
       "      <th>coordinates</th>\n",
       "    </tr>\n",
       "  </thead>\n",
       "  <tbody>\n",
       "    <tr>\n",
       "      <th>0</th>\n",
       "      <td>HMS Victory</td>\n",
       "      <td>(HMS Victory, Main Road, Portsea, Portsmouth, ...</td>\n",
       "      <td>HMS Victory, Main Road, Portsea, Portsmouth, E...</td>\n",
       "      <td>(50.80181325, -1.1096133411749904)</td>\n",
       "    </tr>\n",
       "    <tr>\n",
       "      <th>1</th>\n",
       "      <td>Mary Rose Museum</td>\n",
       "      <td>(Mary Rose Museum, Main Road, Portsea, Portsmo...</td>\n",
       "      <td>Mary Rose Museum, Main Road, Portsea, Portsmou...</td>\n",
       "      <td>(50.80220235, -1.1089264299156816)</td>\n",
       "    </tr>\n",
       "    <tr>\n",
       "      <th>2</th>\n",
       "      <td>HMS Warrior</td>\n",
       "      <td>(HMS Warrior, Gosport Ferry Piazza, Portsea, P...</td>\n",
       "      <td>HMS Warrior, Gosport Ferry Piazza, Portsea, Po...</td>\n",
       "      <td>(50.7982217, -1.1092544924090513)</td>\n",
       "    </tr>\n",
       "    <tr>\n",
       "      <th>3</th>\n",
       "      <td>Portsmouth Historic Dockyard</td>\n",
       "      <td>(Portsmouth Historic Dockyard, The Hard, Ports...</td>\n",
       "      <td>Portsmouth Historic Dockyard, The Hard, Portse...</td>\n",
       "      <td>(50.80046565, -1.1094840008522384)</td>\n",
       "    </tr>\n",
       "    <tr>\n",
       "      <th>4</th>\n",
       "      <td>Spinnaker Tower</td>\n",
       "      <td>(Spinnaker Tower, The Canalside, Gunwharf Quay...</td>\n",
       "      <td>Spinnaker Tower, The Canalside, Gunwharf Quays...</td>\n",
       "      <td>(50.795596450000005, -1.1084489003112004)</td>\n",
       "    </tr>\n",
       "  </tbody>\n",
       "</table>\n",
       "</div>"
      ],
      "text/plain": [
       "                           place  \\\n",
       "0                   HMS Victory    \n",
       "1              Mary Rose Museum    \n",
       "2                   HMS Warrior    \n",
       "3  Portsmouth Historic Dockyard    \n",
       "4               Spinnaker Tower    \n",
       "\n",
       "                                             address  \\\n",
       "0  (HMS Victory, Main Road, Portsea, Portsmouth, ...   \n",
       "1  (Mary Rose Museum, Main Road, Portsea, Portsmo...   \n",
       "2  (HMS Warrior, Gosport Ferry Piazza, Portsea, P...   \n",
       "3  (Portsmouth Historic Dockyard, The Hard, Ports...   \n",
       "4  (Spinnaker Tower, The Canalside, Gunwharf Quay...   \n",
       "\n",
       "                                            address_  \\\n",
       "0  HMS Victory, Main Road, Portsea, Portsmouth, E...   \n",
       "1  Mary Rose Museum, Main Road, Portsea, Portsmou...   \n",
       "2  HMS Warrior, Gosport Ferry Piazza, Portsea, Po...   \n",
       "3  Portsmouth Historic Dockyard, The Hard, Portse...   \n",
       "4  Spinnaker Tower, The Canalside, Gunwharf Quays...   \n",
       "\n",
       "                                 coordinates  \n",
       "0         (50.80181325, -1.1096133411749904)  \n",
       "1         (50.80220235, -1.1089264299156816)  \n",
       "2          (50.7982217, -1.1092544924090513)  \n",
       "3         (50.80046565, -1.1094840008522384)  \n",
       "4  (50.795596450000005, -1.1084489003112004)  "
      ]
     },
     "execution_count": 34,
     "metadata": {},
     "output_type": "execute_result"
    }
   ],
   "source": [
    "df_locations.head()"
   ]
  },
  {
   "cell_type": "code",
   "execution_count": 35,
   "id": "a0ae776e",
   "metadata": {},
   "outputs": [],
   "source": [
    "#removing redundant address column\n",
    "df_locations=df_locations.drop('address',axis=1)"
   ]
  },
  {
   "cell_type": "code",
   "execution_count": 36,
   "id": "5432fa69",
   "metadata": {},
   "outputs": [
    {
     "data": {
      "text/html": [
       "<div>\n",
       "<style scoped>\n",
       "    .dataframe tbody tr th:only-of-type {\n",
       "        vertical-align: middle;\n",
       "    }\n",
       "\n",
       "    .dataframe tbody tr th {\n",
       "        vertical-align: top;\n",
       "    }\n",
       "\n",
       "    .dataframe thead th {\n",
       "        text-align: right;\n",
       "    }\n",
       "</style>\n",
       "<table border=\"1\" class=\"dataframe\">\n",
       "  <thead>\n",
       "    <tr style=\"text-align: right;\">\n",
       "      <th></th>\n",
       "      <th>place</th>\n",
       "      <th>address_</th>\n",
       "      <th>coordinates</th>\n",
       "    </tr>\n",
       "  </thead>\n",
       "  <tbody>\n",
       "    <tr>\n",
       "      <th>0</th>\n",
       "      <td>HMS Victory</td>\n",
       "      <td>HMS Victory, Main Road, Portsea, Portsmouth, E...</td>\n",
       "      <td>(50.80181325, -1.1096133411749904)</td>\n",
       "    </tr>\n",
       "    <tr>\n",
       "      <th>1</th>\n",
       "      <td>Mary Rose Museum</td>\n",
       "      <td>Mary Rose Museum, Main Road, Portsea, Portsmou...</td>\n",
       "      <td>(50.80220235, -1.1089264299156816)</td>\n",
       "    </tr>\n",
       "    <tr>\n",
       "      <th>2</th>\n",
       "      <td>HMS Warrior</td>\n",
       "      <td>HMS Warrior, Gosport Ferry Piazza, Portsea, Po...</td>\n",
       "      <td>(50.7982217, -1.1092544924090513)</td>\n",
       "    </tr>\n",
       "    <tr>\n",
       "      <th>3</th>\n",
       "      <td>Portsmouth Historic Dockyard</td>\n",
       "      <td>Portsmouth Historic Dockyard, The Hard, Portse...</td>\n",
       "      <td>(50.80046565, -1.1094840008522384)</td>\n",
       "    </tr>\n",
       "    <tr>\n",
       "      <th>4</th>\n",
       "      <td>Spinnaker Tower</td>\n",
       "      <td>Spinnaker Tower, The Canalside, Gunwharf Quays...</td>\n",
       "      <td>(50.795596450000005, -1.1084489003112004)</td>\n",
       "    </tr>\n",
       "  </tbody>\n",
       "</table>\n",
       "</div>"
      ],
      "text/plain": [
       "                           place  \\\n",
       "0                   HMS Victory    \n",
       "1              Mary Rose Museum    \n",
       "2                   HMS Warrior    \n",
       "3  Portsmouth Historic Dockyard    \n",
       "4               Spinnaker Tower    \n",
       "\n",
       "                                            address_  \\\n",
       "0  HMS Victory, Main Road, Portsea, Portsmouth, E...   \n",
       "1  Mary Rose Museum, Main Road, Portsea, Portsmou...   \n",
       "2  HMS Warrior, Gosport Ferry Piazza, Portsea, Po...   \n",
       "3  Portsmouth Historic Dockyard, The Hard, Portse...   \n",
       "4  Spinnaker Tower, The Canalside, Gunwharf Quays...   \n",
       "\n",
       "                                 coordinates  \n",
       "0         (50.80181325, -1.1096133411749904)  \n",
       "1         (50.80220235, -1.1089264299156816)  \n",
       "2          (50.7982217, -1.1092544924090513)  \n",
       "3         (50.80046565, -1.1094840008522384)  \n",
       "4  (50.795596450000005, -1.1084489003112004)  "
      ]
     },
     "execution_count": 36,
     "metadata": {},
     "output_type": "execute_result"
    }
   ],
   "source": [
    "df_locations.head()"
   ]
  },
  {
   "cell_type": "code",
   "execution_count": 37,
   "id": "8c5cbf40",
   "metadata": {},
   "outputs": [],
   "source": [
    "#replacing all string type 'None' with None values\n",
    "for i in range(len(df_locations['address_'])):\n",
    "    if df_locations['address_'][i]=='None':\n",
    "        df_locations['address_'][i]=None"
   ]
  },
  {
   "cell_type": "code",
   "execution_count": 38,
   "id": "1c56fa64",
   "metadata": {},
   "outputs": [],
   "source": [
    "#exporting to excel for further cleaning thorugh alteryx\n",
    "df_locations.to_excel('PortsmouthPlaces.xlsx')"
   ]
  },
  {
   "cell_type": "markdown",
   "id": "8b7ab791",
   "metadata": {},
   "source": [
    "**Now move to the other ipynb file (Portsmouth Destination List and Mapping) where we scrapped data from another webiste (Expedia) and combined these two data sets used Nominatim again with missing value treatment and then visualised the locations on a map with the interactive mapping**"
   ]
  }
 ],
 "metadata": {
  "kernelspec": {
   "display_name": "Python 3 (ipykernel)",
   "language": "python",
   "name": "python3"
  },
  "language_info": {
   "codemirror_mode": {
    "name": "ipython",
    "version": 3
   },
   "file_extension": ".py",
   "mimetype": "text/x-python",
   "name": "python",
   "nbconvert_exporter": "python",
   "pygments_lexer": "ipython3",
   "version": "3.9.13"
  }
 },
 "nbformat": 4,
 "nbformat_minor": 5
}
